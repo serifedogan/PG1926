{
  "nbformat": 4,
  "nbformat_minor": 0,
  "metadata": {
    "colab": {
      "name": "Odev2.ipynb",
      "provenance": [],
      "collapsed_sections": [],
      "authorship_tag": "ABX9TyMqvycwQw8gclVf9UyMB7jY",
      "include_colab_link": true
    },
    "kernelspec": {
      "name": "python3",
      "display_name": "Python 3"
    }
  },
  "cells": [
    {
      "cell_type": "markdown",
      "metadata": {
        "id": "view-in-github",
        "colab_type": "text"
      },
      "source": [
        "<a href=\"https://colab.research.google.com/github/serifedogan/PG1926/blob/main/Odev2.ipynb\" target=\"_parent\"><img src=\"https://colab.research.google.com/assets/colab-badge.svg\" alt=\"Open In Colab\"/></a>"
      ]
    },
    {
      "cell_type": "code",
      "metadata": {
        "id": "eunHfz7v2lF1"
      },
      "source": [
        "import regex as re\r\n",
        "import math\r\n",
        "uzanti=int(input(\"1.ilk olarak uzantı uzunluğunu giriniz: \"))\r\n",
        "desen=\"[a-zA-Z0-9]+@[a-zA-Z]+\\.(com|edu|net)\"\r\n",
        "email=input(\"2.Mail adresiniz giriniz: \")\r\n",
        "if (re.search(desen,email)):\r\n",
        "  print(uzanti,\"\\n\",email,\"\\n\",\"Email adresi doğrudur\")\r\n",
        "else:\r\n",
        "    print(uzanti,\"\\n\",email,\"\\n\",\"Email adresi yanlıştır\")\r\n",
        "\r\n",
        "  "
      ],
      "execution_count": null,
      "outputs": []
    },
    {
      "cell_type": "code",
      "metadata": {
        "id": "XN4i5GPMeB51"
      },
      "source": [
        ""
      ],
      "execution_count": null,
      "outputs": []
    }
  ]
}