{
  "nbformat": 4,
  "nbformat_minor": 0,
  "metadata": {
    "colab": {
      "name": "Odev2.ipynb",
      "provenance": [],
      "collapsed_sections": [],
      "authorship_tag": "ABX9TyMqvycwQw8gclVf9UyMB7jY",
      "include_colab_link": true
    },
    "kernelspec": {
      "name": "python3",
      "display_name": "Python 3"
    }
  },
  "cells": [
    {
      "cell_type": "markdown",
      "metadata": {
        "id": "view-in-github",
        "colab_type": "text"
      },
      "source": [
        "<a href=\"https://colab.research.google.com/github/serifedogan/PG1926/blob/main/Odev2.ipynb\" target=\"_parent\"><img src=\"https://colab.research.google.com/assets/colab-badge.svg\" alt=\"Open In Colab\"/></a>"
      ]
    },
    {
      "cell_type": "code",
      "metadata": {
        "colab": {
          "base_uri": "https://localhost:8080/"
        },
        "id": "eunHfz7v2lF1",
        "outputId": "1656403c-7cbd-4443-d077-161c3baa2d21"
      },
      "source": [
        "import regex as re\r\n",
        "import math\r\n",
        "uzanti=int(input(\"1.ilk olarak uzantı uzunluğunu giriniz: \"))\r\n",
        "desen=\"[a-zA-Z0-9]+@[a-zA-Z]+\\.(com|edu|net)\"\r\n",
        "email=input(\"2.Mail adresiniz giriniz: \")\r\n",
        "if (re.search(desen,email)):\r\n",
        "  print(uzanti,\"\\n\",email,\"\\n\",\"Email adresi doğrudur\")\r\n",
        "else:\r\n",
        "    print(uzanti,\"\\n\",email,\"\\n\",\"Email adresi yanlıştır\")\r\n",
        "\r\n",
        "  "
      ],
      "execution_count": 82,
      "outputs": [
        {
          "output_type": "stream",
          "text": [
            "1.ilk olarak uzantı uzunluğunu giriniz: 3\n",
            "2.Mail adresiniz giriniz: serifedogantr@gmail.com\n",
            "3 \n",
            " serifedogantr@gmail.com \n",
            " Email adresi doğrudur\n"
          ],
          "name": "stdout"
        }
      ]
    },
    {
      "cell_type": "code",
      "metadata": {
        "id": "XN4i5GPMeB51"
      },
      "source": [
        ""
      ],
      "execution_count": null,
      "outputs": []
    }
  ]
}