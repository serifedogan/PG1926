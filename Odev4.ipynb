{
  "nbformat": 4,
  "nbformat_minor": 0,
  "metadata": {
    "colab": {
      "name": "Odev4.ipynb",
      "provenance": [],
      "authorship_tag": "ABX9TyN008Swxo75VP+XmZgkydNv",
      "include_colab_link": true
    },
    "kernelspec": {
      "name": "python3",
      "display_name": "Python 3"
    }
  },
  "cells": [
    {
      "cell_type": "markdown",
      "metadata": {
        "id": "view-in-github",
        "colab_type": "text"
      },
      "source": [
        "<a href=\"https://colab.research.google.com/github/serifedogan/PG1926/blob/main/Odev4.ipynb\" target=\"_parent\"><img src=\"https://colab.research.google.com/assets/colab-badge.svg\" alt=\"Open In Colab\"/></a>"
      ]
    },
    {
      "cell_type": "code",
      "metadata": {
        "colab": {
          "base_uri": "https://localhost:8080/"
        },
        "id": "E9mgEPo4hqgw",
        "outputId": "85c1f3da-41c5-4d10-8bfd-69ec28b79bd8"
      },
      "source": [
        "\r\n",
        "liste = [] \r\n",
        "numara = int(input(\"kaç adet sayı gireceksiniz: \")) \r\n",
        " \r\n",
        "for i in range(1, numara + 1): \r\n",
        "    eleman = int(input(\"Sayı giriniz: \")) \r\n",
        "    liste.append(eleman) \r\n",
        "print(liste)  \r\n",
        "       \r\n",
        "print(\"En Büyük Sayı:\", max(liste))"
      ],
      "execution_count": 6,
      "outputs": [
        {
          "output_type": "stream",
          "text": [
            "kaç adet sayı gireceksiniz: 4\n",
            "Sayı giriniz: 23\n",
            "Sayı giriniz: 23\n",
            "Sayı giriniz: 14\n",
            "Sayı giriniz: 65\n",
            "[23, 23, 14, 65]\n",
            "En Büyük Sayı: 65\n"
          ],
          "name": "stdout"
        }
      ]
    },
    {
      "cell_type": "code",
      "metadata": {
        "id": "rQEqCpWdib79"
      },
      "source": [
        ""
      ],
      "execution_count": null,
      "outputs": []
    }
  ]
}