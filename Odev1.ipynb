{
  "nbformat": 4,
  "nbformat_minor": 0,
  "metadata": {
    "colab": {
      "name": "Odev1.ipynb",
      "provenance": [],
      "authorship_tag": "ABX9TyO8ptk7qgtZf2kegFpmGJ7I",
      "include_colab_link": true
    },
    "kernelspec": {
      "name": "python3",
      "display_name": "Python 3"
    }
  },
  "cells": [
    {
      "cell_type": "markdown",
      "metadata": {
        "id": "view-in-github",
        "colab_type": "text"
      },
      "source": [
        "<a href=\"https://colab.research.google.com/github/serifedogan/PG1926/blob/main/Odev1.ipynb\" target=\"_parent\"><img src=\"https://colab.research.google.com/assets/colab-badge.svg\" alt=\"Open In Colab\"/></a>"
      ]
    },
    {
      "cell_type": "code",
      "metadata": {
        "colab": {
          "base_uri": "https://localhost:8080/"
        },
        "id": "LvDcHWUnwo5y",
        "outputId": "74255577-00d8-4977-ce9e-8888e81fb699"
      },
      "source": [
        "for i in range(1,25):\r\n",
        "    if i%3==0 and i%5==0:\r\n",
        "        print(\"fizzbuzz\",\",\",end=\" \")\r\n",
        "    if i % 3==0:      \r\n",
        "        print(\"fizz\",\",\",end = \" \")\r\n",
        "    if i % 5==0:\r\n",
        "        print(\"buzz\",\" ,\",end= \" \")\r\n",
        "    else:\r\n",
        "        print(i,\",\",end=\" \")"
      ],
      "execution_count": 1,
      "outputs": [
        {
          "output_type": "stream",
          "text": [
            "1 , 2 , fizz , 3 , 4 , buzz  , fizz , 6 , 7 , 8 , fizz , 9 , buzz  , 11 , fizz , 12 , 13 , 14 , fizzbuzz , fizz , buzz  , 16 , 17 , fizz , 18 , 19 , buzz  , fizz , 21 , 22 , 23 , fizz , 24 , "
          ],
          "name": "stdout"
        }
      ]
    },
    {
      "cell_type": "code",
      "metadata": {
        "id": "XMARpjtlwyn4"
      },
      "source": [
        ""
      ],
      "execution_count": null,
      "outputs": []
    }
  ]
}