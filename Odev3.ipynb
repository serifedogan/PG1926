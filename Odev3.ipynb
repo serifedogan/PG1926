{
  "nbformat": 4,
  "nbformat_minor": 0,
  "metadata": {
    "colab": {
      "name": "Odev3.ipynb",
      "provenance": [],
      "authorship_tag": "ABX9TyOJJTt9rNofCnk7Xax2OiBA",
      "include_colab_link": true
    },
    "kernelspec": {
      "name": "python3",
      "display_name": "Python 3"
    }
  },
  "cells": [
    {
      "cell_type": "markdown",
      "metadata": {
        "id": "view-in-github",
        "colab_type": "text"
      },
      "source": [
        "<a href=\"https://colab.research.google.com/github/serifedogan/PG1926/blob/main/Odev3.ipynb\" target=\"_parent\"><img src=\"https://colab.research.google.com/assets/colab-badge.svg\" alt=\"Open In Colab\"/></a>"
      ]
    },
    {
      "cell_type": "code",
      "metadata": {
        "colab": {
          "base_uri": "https://localhost:8080/"
        },
        "id": "JsGdEsNboVjC",
        "outputId": "19aaab2b-4597-4604-d0ae-9415ac9bc70e"
      },
      "source": [
        "numara=int(input(\"kaç adet rakam yazmak istersin \"))\r\n",
        "liste1=[int(input(\"Sayı Giriniz: \")) for x in range(numara)]\r\n",
        "print(\"Düzensiz Liste:\",\"\\n\",liste1,)\r\n",
        "\r\n",
        "for i in range(len(liste1)-1):\r\n",
        "    deger=liste1[i]\r\n",
        "    for j in range (i+1,len(liste1)):\r\n",
        "        if liste1[j] < deger:\r\n",
        "            deger=liste1[j]\r\n",
        "    min=liste1.index(deger,i)\r\n",
        "    if liste1[i] !=liste1[min]:\r\n",
        "         liste1[i],liste1[min]=liste1[min],liste1[i]\r\n",
        "print(\"Düzenlenmiş Liste:\",\"\\n\",liste1)"
      ],
      "execution_count": 1,
      "outputs": [
        {
          "output_type": "stream",
          "text": [
            "kaç adet rakam yazmak istersin 5\n",
            "Sayı Giriniz: 1\n",
            "Sayı Giriniz: 5\n",
            "Sayı Giriniz: 4\n",
            "Sayı Giriniz: 8\n",
            "Sayı Giriniz: 9\n",
            "Düzensiz Liste: \n",
            " [1, 5, 4, 8, 9]\n",
            "Düzenlenmiş Liste: \n",
            " [1, 4, 5, 8, 9]\n"
          ],
          "name": "stdout"
        }
      ]
    }
  ]
}